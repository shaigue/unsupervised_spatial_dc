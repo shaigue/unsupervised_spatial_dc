{
 "cells": [
  {
   "cell_type": "markdown",
   "metadata": {},
   "source": [
    "# This is a notebook to create my sample dataset"
   ]
  },
  {
   "cell_type": "code",
   "execution_count": 33,
   "metadata": {},
   "outputs": [],
   "source": [
    "import scipy\n",
    "import librosa\n",
    "import os\n",
    "import numpy as np\n",
    "import glob2\n",
    "import joblib"
   ]
  },
  {
   "cell_type": "code",
   "execution_count": 34,
   "metadata": {},
   "outputs": [],
   "source": [
    "def transform_sample_tf(sample_path, tf_path, target_sr=16000):\n",
    "    \"\"\"Takes a sample that is not ready for use in the model, \n",
    "        and transforms it to a sample that the model can use.\n",
    "        @param sample_path - the path to the sample, a String\n",
    "        @param tf_sample_path - the directory to save the information of the sample\n",
    "        @returns: a path to the transformed sample\"\"\"\n",
    "    signal, _ = librosa.core.load(sample_path, sr=target_sr, dtype=np.float32)\n",
    "    # take only the first channel\n",
    "    if len(signal.shape) > 1:\n",
    "        signal = signal[:,0]\n",
    "    # calculate the real part of the stft and the complex part of the stft\n",
    "    tf = librosa.core.stft(signal)\n",
    "    real = np.real(tf)\n",
    "    imag = np.imag(tf)\n",
    "    # write it to the file, seperate it to real and imag parts\n",
    "    real_p = os.path.join(tf_path, 'real_tfs')\n",
    "    imag_p = os.path.join(tf_path, 'imag_tfs')\n",
    "    joblib.dump(real, real_p, compress=0)\n",
    "    joblib.dump(imag, imag_p, compress=0)\n",
    "    return tf_path\n"
   ]
  },
  {
   "cell_type": "code",
   "execution_count": 35,
   "metadata": {},
   "outputs": [],
   "source": [
    "unprocessed_path = \"samples\"\n",
    "target_path = os.path.join('tf_samples', 'my_dataset', 'train')"
   ]
  },
  {
   "cell_type": "code",
   "execution_count": 36,
   "metadata": {},
   "outputs": [
    {
     "data": {
      "text/plain": [
       "'example'"
      ]
     },
     "execution_count": 36,
     "metadata": {},
     "output_type": "execute_result"
    }
   ],
   "source": [
    "def sep():\n",
    "    sep = '/'\n",
    "    windows = True\n",
    "    if windows:\n",
    "        sep = '\\\\'\n",
    "    return sep\n",
    "\n",
    "def extract_name(path):\n",
    "    # a file with the path - './.../folder/<name>.wav', returs <name>\n",
    "    file_name = path.split(sep())[-1]\n",
    "    return file_name.split('.')[0]\n",
    "\n",
    "# test:\n",
    "extract_name(\".\\\\some folder\\\\example.wav\")"
   ]
  },
  {
   "cell_type": "code",
   "execution_count": 37,
   "metadata": {},
   "outputs": [
    {
     "data": {
      "text/plain": [
       "['samples\\\\bass1.wav',\n",
       " 'samples\\\\bass2.wav',\n",
       " 'samples\\\\drums1.wav',\n",
       " 'samples\\\\drums2.wav',\n",
       " 'samples\\\\vocals1.wav']"
      ]
     },
     "execution_count": 37,
     "metadata": {},
     "output_type": "execute_result"
    }
   ],
   "source": [
    "sample_list = glob2.glob(unprocessed_path + f'{sep()}*')\n",
    "sample_list"
   ]
  },
  {
   "cell_type": "code",
   "execution_count": 38,
   "metadata": {},
   "outputs": [],
   "source": [
    "for sample_path in sample_list:\n",
    "    name = extract_name(sample_path)\n",
    "    tf_path = os.path.join(target_path, name)\n",
    "    if not os.path.isdir(tf_path):\n",
    "        os.mkdir(tf_path)\n",
    "    transform_sample_tf(sample_path, tf_path)"
   ]
  },
  {
   "cell_type": "markdown",
   "metadata": {},
   "source": [
    "### Also for *val* and for *test* "
   ]
  },
  {
   "cell_type": "code",
   "execution_count": 39,
   "metadata": {},
   "outputs": [],
   "source": [
    "target_path = os.path.join('tf_samples', 'my_dataset', 'val')\n",
    "sample_list = glob2.glob(unprocessed_path + f'{sep()}*')\n",
    "for sample_path in sample_list:\n",
    "    name = extract_name(sample_path)\n",
    "    tf_path = os.path.join(target_path, name)\n",
    "    if not os.path.isdir(tf_path):\n",
    "        os.mkdir(tf_path)\n",
    "    transform_sample_tf(sample_path, tf_path)"
   ]
  },
  {
   "cell_type": "code",
   "execution_count": 40,
   "metadata": {},
   "outputs": [],
   "source": [
    "target_path = os.path.join('tf_samples', 'my_dataset', 'test')\n",
    "sample_list = glob2.glob(unprocessed_path + f'{sep()}*')\n",
    "for sample_path in sample_list:\n",
    "    name = extract_name(sample_path)\n",
    "    tf_path = os.path.join(target_path, name)\n",
    "    if not os.path.isdir(tf_path):\n",
    "        os.mkdir(tf_path)\n",
    "    transform_sample_tf(sample_path, tf_path)"
   ]
  }
 ],
 "metadata": {
  "kernelspec": {
   "display_name": "dl-project",
   "language": "python",
   "name": "dl-project"
  },
  "language_info": {
   "codemirror_mode": {
    "name": "ipython",
    "version": 3
   },
   "file_extension": ".py",
   "mimetype": "text/x-python",
   "name": "python",
   "nbconvert_exporter": "python",
   "pygments_lexer": "ipython3",
   "version": "3.7.4"
  }
 },
 "nbformat": 4,
 "nbformat_minor": 4
}
