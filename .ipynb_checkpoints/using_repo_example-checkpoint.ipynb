{
 "cells": [
  {
   "cell_type": "markdown",
   "metadata": {},
   "source": [
    "# This is an example on how to use the repository"
   ]
  },
  {
   "cell_type": "code",
   "execution_count": 88,
   "metadata": {},
   "outputs": [],
   "source": [
    "import numpy as np\n",
    "from matplotlib import pyplot as plt\n",
    "import librosa\n",
    "import scipy\n",
    "import IPython"
   ]
  },
  {
   "cell_type": "code",
   "execution_count": 38,
   "metadata": {},
   "outputs": [],
   "source": [
    "from spatial_two_mics.utils.audio_mixture_constructor import AudioMixtureConstructor"
   ]
  },
  {
   "cell_type": "code",
   "execution_count": 39,
   "metadata": {},
   "outputs": [
    {
     "data": {
      "text/plain": [
       "<spatial_two_mics.utils.audio_mixture_constructor.AudioMixtureConstructor at 0x25810b73708>"
      ]
     },
     "execution_count": 39,
     "metadata": {},
     "output_type": "execute_result"
    }
   ],
   "source": [
    "# __init__\n",
    "audio_mixer = AudioMixtureConstructor()\n",
    "audio_mixer"
   ]
  },
  {
   "cell_type": "code",
   "execution_count": 40,
   "metadata": {},
   "outputs": [
    {
     "data": {
      "text/plain": [
       "'./samples/bass.wav'"
      ]
     },
     "execution_count": 40,
     "metadata": {},
     "output_type": "execute_result"
    }
   ],
   "source": [
    "wav_path = './samples/bass.wav'\n",
    "wav_path"
   ]
  },
  {
   "cell_type": "code",
   "execution_count": 41,
   "metadata": {},
   "outputs": [
    {
     "data": {
      "text/plain": [
       "{'wav_path': './samples/bass.wav'}"
      ]
     },
     "execution_count": 41,
     "metadata": {},
     "output_type": "execute_result"
    }
   ],
   "source": [
    "source_info = {'wav_path': wav_path}\n",
    "source_info"
   ]
  },
  {
   "cell_type": "code",
   "execution_count": 42,
   "metadata": {},
   "outputs": [
    {
     "name": "stderr",
     "output_type": "stream",
     "text": [
      "C:\\Users\\shaig\\Miniconda3\\envs\\dl-project\\lib\\site-packages\\scipy\\io\\wavfile.py:273: WavFileWarning: Chunk (non-data) not understood, skipping it.\n",
      "  WavFileWarning)\n"
     ]
    },
    {
     "data": {
      "text/plain": [
       "((1942186, 2), dtype('int16'), array([[-1946, -1965],\n",
       "        [-1925, -1949],\n",
       "        [-1904, -1924],\n",
       "        ...,\n",
       "        [ -240,  -282],\n",
       "        [ -231,  -269],\n",
       "        [ -214,  -269]], dtype=int16))"
      ]
     },
     "execution_count": 42,
     "metadata": {},
     "output_type": "execute_result"
    }
   ],
   "source": [
    "sr, x = audio_mixer.load_wav(source_info)\n",
    "x.shape, x.dtype, x "
   ]
  },
  {
   "cell_type": "code",
   "execution_count": 43,
   "metadata": {},
   "outputs": [
    {
     "data": {
      "text/plain": [
       "array([[-1946., -1965.],\n",
       "       [-1925., -1949.],\n",
       "       [-1904., -1924.],\n",
       "       ...,\n",
       "       [ -240.,  -282.],\n",
       "       [ -231.,  -269.],\n",
       "       [ -214.,  -269.]], dtype=float32)"
      ]
     },
     "execution_count": 43,
     "metadata": {},
     "output_type": "execute_result"
    }
   ],
   "source": [
    "# needs to be a floating point\n",
    "x = np.array(x, dtype=np.float32)\n",
    "x"
   ]
  },
  {
   "cell_type": "code",
   "execution_count": 44,
   "metadata": {},
   "outputs": [
    {
     "data": {
      "text/plain": [
       "((1942186,),\n",
       " array([-1946., -1925., -1904., ...,  -240.,  -231.,  -214.], dtype=float32))"
      ]
     },
     "execution_count": 44,
     "metadata": {},
     "output_type": "execute_result"
    }
   ],
   "source": [
    "# get only the first channel\n",
    "x1 = x[:, 0]\n",
    "x1.shape, x1"
   ]
  },
  {
   "cell_type": "code",
   "execution_count": 45,
   "metadata": {},
   "outputs": [
    {
     "data": {
      "text/plain": [
       "((513, 7587),\n",
       " dtype('complex64'),\n",
       " array([[-2.42738375e+05+0.0000000e+00j, -3.31210571e+03+0.0000000e+00j,\n",
       "          7.72831836e+03+0.0000000e+00j, ...,\n",
       "          1.00941180e+05+0.0000000e+00j, -9.40975078e+04+0.0000000e+00j,\n",
       "          5.94398682e+03+0.0000000e+00j],\n",
       "        [ 3.13903625e+05+1.2335022e-11j, -1.20648734e+05+2.5291803e+05j,\n",
       "         -1.24784160e+04-2.4997703e+05j, ...,\n",
       "         -2.51932016e+05-8.1931203e+04j,  2.33676281e+05-1.2330810e+05j,\n",
       "         -5.62878008e+04+2.2662478e+05j],\n",
       "        [-2.11625438e+05-4.3866959e-12j,  9.84135625e+04-2.5643214e+05j,\n",
       "          2.02125918e+04+3.6723097e+05j, ...,\n",
       "          2.02280125e+05-1.5224142e+03j, -3.37419625e+05+1.9012262e+05j,\n",
       "          2.07210281e+05-1.0989705e+05j],\n",
       "        ...,\n",
       "        [-7.82496490e+01-1.5250195e-12j,  8.40000610e+01+7.6061401e+01j,\n",
       "         -6.16380577e+01-1.0246048e+02j, ...,\n",
       "          1.10529358e+02-9.1055954e+01j, -5.71402321e+01+5.2349258e+01j,\n",
       "         -1.85502586e+01+3.4610538e+01j],\n",
       "        [ 3.71163750e+00+1.4210855e-12j, -1.43638489e+02-3.9544575e+01j,\n",
       "         -2.72572517e+01+9.8063957e+01j, ...,\n",
       "         -1.57429733e+01+6.5732552e+01j,  1.28764587e+02+1.3599232e+01j,\n",
       "          3.76429558e+01-5.7368782e+01j],\n",
       "        [ 1.26997467e+02+0.0000000e+00j,  1.62035172e+02+0.0000000e+00j,\n",
       "          1.03999985e+02+0.0000000e+00j, ...,\n",
       "         -6.64955521e+01+0.0000000e+00j, -1.44991974e+02+0.0000000e+00j,\n",
       "         -1.04564949e+02+0.0000000e+00j]], dtype=complex64))"
      ]
     },
     "execution_count": 45,
     "metadata": {},
     "output_type": "execute_result"
    }
   ],
   "source": [
    "X = audio_mixer.get_stft(x1)\n",
    "X.shape, X.dtype, X"
   ]
  },
  {
   "cell_type": "code",
   "execution_count": 46,
   "metadata": {},
   "outputs": [
    {
     "data": {
      "text/plain": [
       "((1942185,),\n",
       " array([-1925., -1904., -1886., ...,  -240.,  -231.,  -214.], dtype=float32))"
      ]
     },
     "execution_count": 46,
     "metadata": {},
     "output_type": "execute_result"
    }
   ],
   "source": [
    "# it seems that the only thing that it does is to slice the array, equiv to x2 = x1[1:]\n",
    "x2 = audio_mixer.force_delay_on_signal(x1, 1)\n",
    "x2.shape, x2"
   ]
  },
  {
   "cell_type": "code",
   "execution_count": 47,
   "metadata": {},
   "outputs": [
    {
     "data": {
      "image/png": "[encoded data removed]",
      "text/plain": [
       "<Figure size 432x288 with 2 Axes>"
      ]
     },
     "metadata": {
      "needs_background": "light"
     },
     "output_type": "display_data"
    }
   ],
   "source": [
    "x_0, x_1 = 100, 1000\n",
    "plt.subplot(2, 1, 1)\n",
    "plt.plot(x1[x_0:x_1])\n",
    "plt.subplot(2, 1, 2)\n",
    "plt.plot(x2[x_0:x_1])\n",
    "plt.show()"
   ]
  },
  {
   "cell_type": "code",
   "execution_count": 48,
   "metadata": {},
   "outputs": [
    {
     "data": {
      "text/plain": [
       "{'m1': [array([-1878.21635228, -1854.35482701, -1832.61889298, ...,\n",
       "           725.67255829,   734.32183832,   746.03944818])],\n",
       " 'm2': [array([-1846.95570779, -1825.04405676, -1801.94940715, ...,\n",
       "           711.98743266,   721.00856612,   731.98484948])]}"
      ]
     },
     "execution_count": 48,
     "metadata": {},
     "output_type": "execute_result"
    }
   ],
   "source": [
    "# This returns 2 mics input, simulates a delay caused by spatial distance between the 2 mics\n",
    "# for sevral source inputs - for validation\n",
    "# delay is in seconds\n",
    "x3 = audio_mixer.enforce_float_delays(\n",
    "        source_signals=[x1],\n",
    "        delays_for_sources=[0.1],\n",
    "        fs=sr)\n",
    "x3"
   ]
  },
  {
   "cell_type": "code",
   "execution_count": 49,
   "metadata": {},
   "outputs": [
    {
     "data": {
      "image/png": "[encoded data removed]",
      "text/plain": [
       "<Figure size 432x288 with 2 Axes>"
      ]
     },
     "metadata": {
      "needs_background": "light"
     },
     "output_type": "display_data"
    }
   ],
   "source": [
    "m1, m2 = x3['m1'][0], x3['m2'][0]\n",
    "x_0, x_1 = 100, 1000\n",
    "plt.subplot(2, 1, 1)\n",
    "plt.plot(m1[x_0:x_1])\n",
    "plt.subplot(2, 1, 2)\n",
    "plt.plot(m2[x_0:x_1])\n",
    "plt.show()"
   ]
  },
  {
   "cell_type": "code",
   "execution_count": 50,
   "metadata": {},
   "outputs": [
    {
     "data": {
      "text/plain": [
       "{'m1': [array([-1847.02310812, -1824.95495497, -1802.0301269 , ...,\n",
       "           712.01242161,   720.9736179 ,   732.01316742])],\n",
       " 'm2': [array([-1846.95570779, -1825.04405676, -1801.94940715, ...,\n",
       "           711.98743266,   721.00856612,   731.98484948])]}"
      ]
     },
     "execution_count": 50,
     "metadata": {},
     "output_type": "execute_result"
    }
   ],
   "source": [
    "# the signal is a tuple of the first signal and the sampling rate\n",
    "# all the signals need to have the same SR!\n",
    "sig1 = (x1, sr)\n",
    "d1 = 0.01\n",
    "x4 = audio_mixer.construct_mic_signals(source_signals=[sig1], delays_for_sources=[d1])\n",
    "x4"
   ]
  },
  {
   "cell_type": "markdown",
   "metadata": {},
   "source": [
    "#### Why is the function enforce float delays so slow?"
   ]
  },
  {
   "cell_type": "code",
   "execution_count": 31,
   "metadata": {},
   "outputs": [],
   "source": [
    "def transform_sample(sample_path, tf_sample_path, target_sr=16000):\n",
    "    \"\"\"Takes a sample that is not ready for use in the model, \n",
    "        and transforms it to a sample that the model can use.\n",
    "        @param sample_path - the path to the sample, a String\n",
    "        @param tf_sample_path - the path for saving the proccessed sample\n",
    "        @returns: a path to the transformed sample\"\"\"\n",
    "    # read it\n",
    "    signal, _ = librosa.core.load(sample_path, sr=target_sr, dtype=np.float32)\n",
    "    # take only the first channel\n",
    "    if len(signal.shape) > 1:\n",
    "        signal = signal[:,0]    \n",
    "    # downsample the sampling frequancy - is done on read\n",
    "    # make it a float - is done on read\n",
    "    # write it to the file\n",
    "    scipy.io.wavfile.write(tf_sample_path, target_sr, signal)\n",
    "    return tf_sample_path\n",
    "\n",
    "# test it\n",
    "# sample_path = transform_sample('./samples/bass.wav', './tf_samples/bass.wav')\n",
    "# sr, signal = scipy.io.wavfile.read(sample_path)\n",
    "# sr, signal.shape, signal"
   ]
  },
  {
   "cell_type": "code",
   "execution_count": 32,
   "metadata": {},
   "outputs": [],
   "source": [
    "# an example of mixture_info\n",
    "# has some info that is not important, might be removed later\n",
    "orig_paths = ['./samples/bass.wav', './samples/drums.wav']\n",
    "tf_paths = ['./tf_samples/bass.wav', './tf_samples/drums.wav']\n",
    "for i, path in enumerate(orig_paths):\n",
    "    transform_sample(path, tf_paths[i])"
   ]
  },
  {
   "cell_type": "code",
   "execution_count": 35,
   "metadata": {},
   "outputs": [
    {
     "data": {
      "text/plain": [
       "{'positions': {'amplitudes': array([0.73382382, 0.26617618]),\n",
       "  'd_thetas': array([1.06829948]),\n",
       "  'distances': {'m1m1': 0.0,\n",
       "   'm1m2': 0.03,\n",
       "   'm1s1': 3.015,\n",
       "   'm1s2': 3.0072529608785676,\n",
       "   'm2m1': 0.03,\n",
       "   'm2m2': 0.0,\n",
       "   'm2s1': 2.985,\n",
       "   'm2s2': 2.9928046426867034,\n",
       "   's1m1': 3.015,\n",
       "   's1m2': 2.985,\n",
       "   's1s1': 0.0,\n",
       "   's1s2': 3.054656422155759,\n",
       "   's2m1': 3.0072529608785676,\n",
       "   's2m2': 2.9928046426867034,\n",
       "   's2s1': 3.054656422155759,\n",
       "   's2s2': 0.0},\n",
       "  'taus': array([1.39941691, 0.67397403]),\n",
       "  'thetas': array([0.        , 1.06829948]),\n",
       "  'xy_positons': array([[3.        , 0.        ],\n",
       "         [1.44484569, 2.62914833]])},\n",
       " 'sources_ids': [{'gender': 'f',\n",
       "   'sentence_id': 'sa1',\n",
       "   'speaker_id': 'flbw0',\n",
       "   'wav_path': './tf_samples/bass.wav'},\n",
       "  {'gender': 'm',\n",
       "   'sentence_id': 'sa2',\n",
       "   'speaker_id': 'mbns0',\n",
       "   'wav_path': './tf_samples/drums.wav'}]}"
      ]
     },
     "execution_count": 35,
     "metadata": {},
     "output_type": "execute_result"
    }
   ],
   "source": [
    "ex = {'positions':\n",
    "                  {'amplitudes': np.array([0.73382382, 0.26617618]),\n",
    "                   'd_thetas': np.array([1.06829948]),\n",
    "                   'distances': {'m1m1': 0.0,\n",
    "                                 'm1m2': 0.03,\n",
    "                                 'm1s1': 3.015,\n",
    "                                 'm1s2': 3.0072529608785676,\n",
    "                                 'm2m1': 0.03,\n",
    "                                 'm2m2': 0.0,\n",
    "                                 'm2s1': 2.985,\n",
    "                                 'm2s2': 2.9928046426867034,\n",
    "                                 's1m1': 3.015,\n",
    "                                 's1m2': 2.985,\n",
    "                                 's1s1': 0.0,\n",
    "                                 's1s2': 3.054656422155759,\n",
    "                                 's2m1': 3.0072529608785676,\n",
    "                                 's2m2': 2.9928046426867034,\n",
    "                                 's2s1': 3.054656422155759,\n",
    "                                 's2s2': 0.0},\n",
    "                   'taus': np.array([1.39941691, 0.67397403]),\n",
    "                   'thetas': np.array([0., 1.06829948]),\n",
    "                   'xy_positons': np.array([[3., 0.],\n",
    "                                         [1.44484569, 2.62914833]])},\n",
    "     'sources_ids': [{'gender': 'f',\n",
    "                     'sentence_id': 'sa1',\n",
    "                     'speaker_id': 'flbw0',\n",
    "                     'wav_path': tf_paths[0]},\n",
    "                    {'gender': 'm',\n",
    "                     'sentence_id': 'sa2',\n",
    "                     'speaker_id': 'mbns0',\n",
    "                     'wav_path': tf_paths[1]}\n",
    "]}\n",
    "ex\n",
    "# audio_mixer.get_tf_representations(mixture_info=mixture_info)"
   ]
  },
  {
   "cell_type": "code",
   "execution_count": 52,
   "metadata": {},
   "outputs": [
    {
     "data": {
      "text/plain": [
       "{'m1_raw': array([-0.77918812, -0.89969267, -0.79051884, ..., -0.72943535,\n",
       "        -0.76632839, -0.53722688]),\n",
       " 'm2_raw': array([-0.75565097, -0.79578085, -0.86104782, ..., -0.59073446,\n",
       "        -0.75938386, -0.66889386]),\n",
       " 'm1_tf': array([[-1.00382977e+01+0.0000000e+00j, -5.39909840e+00+0.0000000e+00j,\n",
       "         -1.67551744e+00+0.0000000e+00j, ...,\n",
       "          1.65945854e+01+0.0000000e+00j,  1.31148851e+00+0.0000000e+00j,\n",
       "          2.47369118e+01+0.0000000e+00j],\n",
       "        [ 1.49621716e+01-1.1570606e-15j, -1.36789751e+00+5.9920201e+00j,\n",
       "          1.33232641e+00+4.8629358e-01j, ...,\n",
       "         -2.85263634e+01-5.6813655e+00j,  3.65539093e+01-1.3153624e+01j,\n",
       "         -5.15940895e+01+3.4976006e+01j],\n",
       "        [-1.71711254e+01+1.2119254e-15j,  1.22700119e+01+8.1880827e+00j,\n",
       "         -1.49170363e+00+8.0678010e-01j, ...,\n",
       "         -6.58156753e-01-3.0953020e+01j, -5.43008728e+01+7.5090790e+01j,\n",
       "          1.04333893e+02-7.6986946e+01j],\n",
       "        ...,\n",
       "        [ 1.93122789e-01+1.0362762e-15j, -9.68867615e-02+5.8944826e-04j,\n",
       "          9.04110319e-04-8.3508574e-05j, ...,\n",
       "          7.87037134e-05+7.6144107e-04j, -4.01169207e-04-5.2677240e-04j,\n",
       "         -5.08142300e-02+2.1848308e-03j],\n",
       "        [-1.90984026e-01-2.0296265e-16j,  1.45229721e-03+9.5525153e-02j,\n",
       "          1.14772200e-04-4.6168239e-05j, ...,\n",
       "         -1.07211235e-04-3.1568547e-04j, -1.30395681e-04-1.3042415e-04j,\n",
       "         -1.73584768e-03-5.2144311e-02j],\n",
       "        [ 1.89592972e-01+0.0000000e+00j,  9.40424576e-02+0.0000000e+00j,\n",
       "         -1.38966099e-03+0.0000000e+00j, ...,\n",
       "          2.66376359e-04+0.0000000e+00j,  7.51434825e-04+0.0000000e+00j,\n",
       "          5.31107448e-02+0.0000000e+00j]], dtype=complex64),\n",
       " 'm2_tf': array([[-1.16536732e+01+0.0000000e+00j, -6.15789700e+00+0.0000000e+00j,\n",
       "         -1.53951395e+00+0.0000000e+00j, ...,\n",
       "          1.57602816e+01+0.0000000e+00j,  1.25456917e+00+0.0000000e+00j,\n",
       "          2.35035210e+01+0.0000000e+00j],\n",
       "        [ 1.64358845e+01-1.7364582e-15j, -1.40172708e+00+6.7833228e+00j,\n",
       "          1.31434512e+00+4.5208067e-01j, ...,\n",
       "         -2.71472454e+01-5.1744428e+00j,  3.45373878e+01-1.2700182e+01j,\n",
       "         -4.85955124e+01+3.3442085e+01j],\n",
       "        [-1.88371830e+01+3.7231921e-16j,  1.28877926e+01+7.9865594e+00j,\n",
       "         -1.34141052e+00+7.8646094e-01j, ...,\n",
       "         -7.88567722e-01-2.9331011e+01j, -5.12322388e+01+7.1520569e+01j,\n",
       "          9.85488510e+01-7.2978584e+01j],\n",
       "        ...,\n",
       "        [-1.37242734e-01-3.7231921e-16j,  6.91639706e-02-1.0037887e-03j,\n",
       "         -1.65779691e-03+3.6017003e-04j, ...,\n",
       "         -2.62502363e-06-1.6061859e-03j,  7.23252888e-04+1.2096288e-03j,\n",
       "         -1.08936556e-01+2.9166104e-04j],\n",
       "        [ 1.33432373e-01+6.2623517e-16j, -2.69707059e-03-6.6903748e-02j,\n",
       "         -5.57163265e-04-1.1898832e-04j, ...,\n",
       "          2.10347775e-04+6.5868231e-04j,  2.40289737e-04+2.5624209e-04j,\n",
       "          1.10556826e-03-1.0593810e-01j],\n",
       "        [-1.30828902e-01+0.0000000e+00j, -6.39121905e-02+0.0000000e+00j,\n",
       "          3.04941740e-03+0.0000000e+00j, ...,\n",
       "         -5.30939258e-04+0.0000000e+00j, -1.59170188e-03+0.0000000e+00j,\n",
       "          1.03878990e-01+0.0000000e+00j]], dtype=complex64),\n",
       " 'sources_raw': [array([-1.10866901, -1.10653817, -1.03451692, ...,  0.51775415,\n",
       "          0.53624239,  0.55422285]),\n",
       "  array([ 0.12916108, -0.32943822, -0.11783802, ..., -4.16782478,\n",
       "         -4.35739902, -3.54625577])],\n",
       " 'sources_tf': [array([[-1.6407618e+01+0.0000000e+00j, -8.7811985e+00+0.0000000e+00j,\n",
       "          -2.0026822e+00+0.0000000e+00j, ...,\n",
       "           6.5100493e+00+0.0000000e+00j, -1.0357558e+01+0.0000000e+00j,\n",
       "           1.9963991e+01+0.0000000e+00j],\n",
       "         [ 2.2568304e+01+1.8041124e-16j, -1.3965448e+00+9.4237299e+00j,\n",
       "           1.3397994e+00+1.0331939e+00j, ...,\n",
       "          -5.7486219e+00-1.3449107e+01j, -3.3527749e+00-6.4509931e+00j,\n",
       "           2.9076572e+01+3.5401295e+01j],\n",
       "         [-2.5494207e+01+1.1772310e-15j,  1.7144550e+01+1.1335024e+01j,\n",
       "          -1.2960321e+00+6.8720388e-01j, ...,\n",
       "           2.9109631e+00+3.2848206e+01j,  2.7944754e+01-3.4545837e+01j,\n",
       "          -8.9548180e+01+5.3853164e+00j],\n",
       "         ...,\n",
       "         [ 8.9631245e-02+1.2728114e-16j, -4.4666547e-02+2.8742239e-04j,\n",
       "          -1.9119884e-04-4.4860080e-04j, ...,\n",
       "           2.1213109e-06+1.0923741e-05j,  6.1112091e-06-5.8351521e-05j,\n",
       "          -4.5757778e-03+2.9988092e-04j],\n",
       "         [-8.9696288e-02-4.5796700e-16j, -3.1833592e-04+4.4830788e-02j,\n",
       "           2.0169748e-04+4.4505965e-04j, ...,\n",
       "          -4.2893530e-06-3.4025702e-06j,  2.7754539e-05-9.2695464e-06j,\n",
       "          -1.6307105e-04-4.7465535e-03j],\n",
       "         [ 8.9951381e-02+0.0000000e+00j,  4.5097992e-02+0.0000000e+00j,\n",
       "          -1.5264360e-04+0.0000000e+00j, ...,\n",
       "           7.5782359e-06+0.0000000e+00j,  2.9214196e-05+0.0000000e+00j,\n",
       "           4.7940509e-03+0.0000000e+00j]], dtype=complex64),\n",
       "  array([[ 7.5213432e+00+0.0000000e+00j,  3.9250493e+00+0.0000000e+00j,\n",
       "          -7.7355355e-01+0.0000000e+00j, ...,\n",
       "           4.4396744e+01+0.0000000e+00j,  3.3482002e+01+0.0000000e+00j,\n",
       "           3.7895428e+01+0.0000000e+00j],\n",
       "         [-6.0072522e+00+1.3227267e-16j, -1.2889194e+00-3.4688940e+00j,\n",
       "           1.3117238e+00-1.0214617e+00j, ...,\n",
       "          -9.1322556e+01+1.5733600e+01j,  1.4657306e+02-3.1632175e+01j,\n",
       "          -2.7399585e+02+3.3803532e+01j],\n",
       "         [ 5.7748661e+00+4.1633363e-17j, -1.1686497e+00-4.8775136e-01j,\n",
       "          -2.0311525e+00+1.1364410e+00j, ...,\n",
       "          -1.0497899e+01-2.0684727e+02j, -2.8104468e+02+3.7734912e+02j,\n",
       "           6.3884937e+02-3.0407990e+02j],\n",
       "         ...,\n",
       "         [ 4.7843966e-01-2.6367797e-16j, -2.4085321e-01+1.4221064e-03j,\n",
       "           3.9237794e-03+9.2301785e-04j, ...,\n",
       "           2.8983454e-04+2.8305498e-03j, -1.5240047e-03-1.8181666e-03j,\n",
       "          -1.7828949e-01+7.3814685e-03j],\n",
       "         [-4.7022524e-01+4.2283885e-16j,  6.3337740e-03+2.3528498e-01j,\n",
       "          -1.2487297e-04-1.4004394e-03j, ...,\n",
       "          -3.9095763e-04-1.1766213e-03j, -5.6640164e-04-4.6443651e-04j,\n",
       "          -6.0718516e-03-1.8281567e-01j],\n",
       "         [ 4.6429589e-01+0.0000000e+00j,  2.2897795e-01+0.0000000e+00j,\n",
       "          -4.8000067e-03+0.0000000e+00j, ...,\n",
       "           9.7985961e-04+0.0000000e+00j,  2.7425322e-03+0.0000000e+00j,\n",
       "           1.8631554e-01+0.0000000e+00j]], dtype=complex64)],\n",
       " 'amplitudes': array([0.73382382, 0.26617618])}"
      ]
     },
     "execution_count": 52,
     "metadata": {},
     "output_type": "execute_result"
    }
   ],
   "source": [
    "T = audio_mixer.construct_mixture(mixture_info=ex)\n",
    "T"
   ]
  },
  {
   "cell_type": "markdown",
   "metadata": {},
   "source": [
    "## Here we wrap up the `utils/audio_mixture_constructor.py` part\n",
    "lets go to `labels_inference` module:"
   ]
  },
  {
   "cell_type": "code",
   "execution_count": 54,
   "metadata": {},
   "outputs": [],
   "source": [
    "# the mask from the phase differances\n",
    "# can implement in there some new methods to create the mask_estimeator, \n",
    "# better suited for the task\n",
    "from spatial_two_mics.labels_inference.tf_label_estimator import TFMaskEstimator"
   ]
  },
  {
   "cell_type": "code",
   "execution_count": 55,
   "metadata": {},
   "outputs": [
    {
     "data": {
      "text/plain": [
       "(<spatial_two_mics.labels_inference.tf_label_estimator.TFMaskEstimator at 0x25810d8c388>,\n",
       " <spatial_two_mics.labels_inference.tf_label_estimator.TFMaskEstimator at 0x25810d8c408>)"
      ]
     },
     "execution_count": 55,
     "metadata": {},
     "output_type": "execute_result"
    }
   ],
   "source": [
    "duet_mask_estimator = TFMaskEstimator('duet_kmeans')\n",
    "ground_truth_mask_estimator = TFMaskEstimator('ground_truth')\n",
    "duet_mask_estimator, ground_truth_mask_estimator"
   ]
  },
  {
   "cell_type": "code",
   "execution_count": 86,
   "metadata": {},
   "outputs": [
    {
     "data": {
      "text/plain": [
       "((513, 125), (513, 125))"
      ]
     },
     "execution_count": 86,
     "metadata": {},
     "output_type": "execute_result"
    }
   ],
   "source": [
    "ground_mask = ground_truth_mask_estimator.infer_mixture_labels(T)\n",
    "duet_mask = duet_mask_estimator.infer_mixture_labels(T)\n",
    "ground_mask.shape, duet_mask.shape"
   ]
  },
  {
   "cell_type": "code",
   "execution_count": 87,
   "metadata": {},
   "outputs": [
    {
     "data": {
      "text/plain": [
       "array([[0, 0, 0, ..., 1, 1, 0],\n",
       "       [0, 0, 0, ..., 1, 1, 1],\n",
       "       [0, 0, 0, ..., 1, 1, 1],\n",
       "       ...,\n",
       "       [1, 1, 1, ..., 1, 1, 1],\n",
       "       [1, 1, 1, ..., 1, 1, 1],\n",
       "       [1, 1, 1, ..., 1, 1, 1]], dtype=uint8)"
      ]
     },
     "execution_count": 87,
     "metadata": {},
     "output_type": "execute_result"
    }
   ],
   "source": [
    "ground_mask"
   ]
  },
  {
   "cell_type": "code",
   "execution_count": 64,
   "metadata": {},
   "outputs": [
    {
     "data": {
      "text/plain": [
       "(513, 125)"
      ]
     },
     "execution_count": 64,
     "metadata": {},
     "output_type": "execute_result"
    }
   ],
   "source": [
    "m1_tf = T['m1_tf']\n",
    "m1_tf.shape"
   ]
  },
  {
   "cell_type": "code",
   "execution_count": 81,
   "metadata": {},
   "outputs": [],
   "source": [
    "from librosa.display import specshow"
   ]
  },
  {
   "cell_type": "code",
   "execution_count": 82,
   "metadata": {},
   "outputs": [
    {
     "data": {
      "text/plain": [
       "<matplotlib.axes._subplots.AxesSubplot at 0x2581223e388>"
      ]
     },
     "execution_count": 82,
     "metadata": {},
     "output_type": "execute_result"
    },
    {
     "data": {
      "image/png": "[encoded data removed]",
      "text/plain": [
       "<Figure size 432x288 with 1 Axes>"
      ]
     },
     "metadata": {
      "needs_background": "light"
     },
     "output_type": "display_data"
    }
   ],
   "source": [
    "specshow(np.abs(m1_tf), y_axis='log')"
   ]
  },
  {
   "cell_type": "code",
   "execution_count": 83,
   "metadata": {},
   "outputs": [
    {
     "data": {
      "text/plain": [
       "<matplotlib.axes._subplots.AxesSubplot at 0x25811f3e388>"
      ]
     },
     "execution_count": 83,
     "metadata": {},
     "output_type": "execute_result"
    },
    {
     "data": {
      "image/png": "[encoded data removed]",
      "text/plain": [
       "<Figure size 432x288 with 1 Axes>"
      ]
     },
     "metadata": {
      "needs_background": "light"
     },
     "output_type": "display_data"
    }
   ],
   "source": [
    "specshow(ground_mask, y_axis='log')"
   ]
  },
  {
   "cell_type": "code",
   "execution_count": 84,
   "metadata": {},
   "outputs": [
    {
     "data": {
      "text/plain": [
       "<matplotlib.axes._subplots.AxesSubplot at 0x258123a26c8>"
      ]
     },
     "execution_count": 84,
     "metadata": {},
     "output_type": "execute_result"
    },
    {
     "data": {
      "image/png": "[encoded data removed]",
      "text/plain": [
       "<Figure size 432x288 with 1 Axes>"
      ]
     },
     "metadata": {
      "needs_background": "light"
     },
     "output_type": "display_data"
    }
   ],
   "source": [
    "specshow(duet_mask, y_axis='log')"
   ]
  },
  {
   "cell_type": "code",
   "execution_count": 85,
   "metadata": {},
   "outputs": [
    {
     "data": {
      "text/plain": [
       "<matplotlib.axes._subplots.AxesSubplot at 0x258123fe2c8>"
      ]
     },
     "execution_count": 85,
     "metadata": {},
     "output_type": "execute_result"
    },
    {
     "data": {
      "image/png": "[encoded data removed]",
      "text/plain": [
       "<Figure size 432x288 with 1 Axes>"
      ]
     },
     "metadata": {
      "needs_background": "light"
     },
     "output_type": "display_data"
    }
   ],
   "source": [
    "specshow((duet_mask - ground_mask), y_axis='log')"
   ]
  },
  {
   "cell_type": "markdown",
   "metadata": {},
   "source": [
    "## lets try to apply the mask and see what we get:"
   ]
  },
  {
   "cell_type": "markdown",
   "metadata": {},
   "source": [
    "### Mixture"
   ]
  },
  {
   "cell_type": "code",
   "execution_count": 89,
   "metadata": {},
   "outputs": [],
   "source": [
    "# TODO:"
   ]
  },
  {
   "cell_type": "markdown",
   "metadata": {},
   "source": [
    "### Ground Truth mask"
   ]
  },
  {
   "cell_type": "code",
   "execution_count": 90,
   "metadata": {},
   "outputs": [],
   "source": [
    "# TODO:"
   ]
  },
  {
   "cell_type": "markdown",
   "metadata": {},
   "source": [
    "## Now lets Try and run the model\n",
    "acording to the code in *.spatial_two_mics/dnn/experiments/check_overfitting.py* - \n",
    "\n",
    "lets check my_check_overfitting.py - the changes made were so:\n",
    "* I can run them either on the CPU only(the original needs to have a GPU in order to work)\n",
    "* I can use my data set and not the reasearcher one\n",
    "\n",
    "**NOTE:** *also changed 'my_fast_dataset.py' instead of 'fast_dataset_v2.py'*"
   ]
  },
  {
   "cell_type": "code",
   "execution_count": 101,
   "metadata": {},
   "outputs": [],
   "source": [
    "import spatial_two_mics.dnn.utils.my_fast_dataset as fast_dataset\n",
    "args = {\n",
    "    \n",
    "}\n",
    "fast_dataset.get_data_generator(args=,\n",
    "                               return_status=,\n",
    "                               get_top=,)"
   ]
  }
 ],
 "metadata": {
  "kernelspec": {
   "display_name": "dl-project",
   "language": "python",
   "name": "dl-project"
  },
  "language_info": {
   "codemirror_mode": {
    "name": "ipython",
    "version": 3
   },
   "file_extension": ".py",
   "mimetype": "text/x-python",
   "name": "python",
   "nbconvert_exporter": "python",
   "pygments_lexer": "ipython3",
   "version": "3.7.4"
  }
 },
 "nbformat": 4,
 "nbformat_minor": 4
}
